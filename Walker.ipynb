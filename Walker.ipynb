{
 "cells": [
  {
   "cell_type": "markdown",
   "metadata": {},
   "source": [
    "Machine Learning Algorithm"
   ]
  },
  {
   "cell_type": "code",
   "execution_count": 10,
   "metadata": {
    "scrolled": true
   },
   "outputs": [
    {
     "name": "stdout",
     "output_type": "stream",
     "text": [
      "<class 'pandas.core.frame.DataFrame'>\n",
      "   2  tcp  smtp  SF  2068  327  0  0.1  0.2  0.3  ...  75  0.70  0.04  0.01  \\\n",
      "0  1  tcp  smtp  SF   612  326  0    0    0    0  ...  76  0.70  0.04  0.01   \n",
      "1  2  tcp  smtp  SF   710  368  0    0    0    0  ...  77  0.71  0.04  0.01   \n",
      "2  2  tcp  smtp  SF  1393  327  0    0    0    0  ...  78  0.71  0.04  0.01   \n",
      "3  0  tcp  smtp  SF   899  327  0    0    0    0  ...  79  0.71  0.04  0.01   \n",
      "4  1  tcp  smtp  SF  1561  324  0    0    0    0  ...  80  0.71  0.04  0.01   \n",
      "\n",
      "   0.00.5  0.00.6  0.00.7  0.00.8  0.00.9  normal.  \n",
      "0     0.0     0.0     0.0     0.0     0.0  normal.  \n",
      "1     0.0     0.0     0.0     0.0     0.0  normal.  \n",
      "2     0.0     0.0     0.0     0.0     0.0  normal.  \n",
      "3     0.0     0.0     0.0     0.0     0.0  normal.  \n",
      "4     0.0     0.0     0.0     0.0     0.0  normal.  \n",
      "\n",
      "[5 rows x 42 columns]\n"
     ]
    }
   ],
   "source": [
    "import pandas as pd\n",
    "df=pd.read_csv(\"C:/Users/mailt/Desktop/NetworksPaper/Copy.corrected.csv\")\n",
    "print(type(df))\n",
    "print (df.head())\n",
    "# Note you no longer need to import keras, use tf.keras instead"
   ]
  },
  {
   "cell_type": "code",
   "execution_count": 11,
   "metadata": {},
   "outputs": [],
   "source": [
    "#Import Library of Gaussian Naive Bayes model\n",
    "from sklearn.naive_bayes import GaussianNB\n",
    "import numpy as np\n",
    "\n",
    "#assigning predictor and target variables\n",
    "x= np.array([[-3,7],[1,5], [1,2], [-2,0], [2,3], [-4,0], [-1,1], [1,1], [-2,2], [2,7], [-4,1], [-2,7]])\n",
    "y = np.array([3, 3, 3, 3, 4, 3, 3, 4, 3, 4, 4, 4])"
   ]
  },
  {
   "cell_type": "code",
   "execution_count": 12,
   "metadata": {},
   "outputs": [
    {
     "name": "stdout",
     "output_type": "stream",
     "text": [
      "[3 4]\n"
     ]
    }
   ],
   "source": [
    "#Create a Gaussian Classifier\n",
    "model = GaussianNB()\n",
    "\n",
    "# Train the model using the training sets \n",
    "model.fit(x, y)\n",
    "\n",
    "#Predict Output \n",
    "predicted= model.predict([[1,2],[3,4]])\n",
    "print(predicted)\n"
   ]
  },
  {
   "cell_type": "code",
   "execution_count": null,
   "metadata": {},
   "outputs": [],
   "source": []
  }
 ],
 "metadata": {
  "kernelspec": {
   "display_name": "Python 3",
   "language": "python",
   "name": "python3"
  },
  "language_info": {
   "codemirror_mode": {
    "name": "ipython",
    "version": 3
   },
   "file_extension": ".py",
   "mimetype": "text/x-python",
   "name": "python",
   "nbconvert_exporter": "python",
   "pygments_lexer": "ipython3",
   "version": "3.7.3"
  }
 },
 "nbformat": 4,
 "nbformat_minor": 2
}
