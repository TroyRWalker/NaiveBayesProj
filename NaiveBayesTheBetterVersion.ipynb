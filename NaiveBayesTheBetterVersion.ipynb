{
 "cells": [
  {
   "cell_type": "markdown",
   "metadata": {},
   "source": [
    "Machine Learning Algorithm"
   ]
  },
  {
   "cell_type": "code",
   "execution_count": 7,
   "metadata": {
    "scrolled": true
   },
   "outputs": [],
   "source": [
    "#Adapted from: https://github.com/chadlimedamine/kdd-cup-99-Analysis-machine-learning-python/blob/master/kdd_binary_classification_naive_bayes.py\n",
    "\n",
    "import pandas as pd\n",
    "from time import time\n",
    "#read dataset from given location where dataset is stored\n",
    "dataset = pd.read_csv(\"/Users/arely/Downloads/kddcup.data_10_percent_corrected\")\n",
    "\n",
    "\n",
    "''' the last column shows if it is normal or the type of attack\n",
    "there are 22 types of attacks and only 'normal' denotes a safe packet'''\n",
    "#so we split the data set into normal vs. attack - binary classification\n",
    "dataset['normal.'] = dataset['normal.'].replace(['back.', 'buffer_overflow.', 'ftp_write.', 'guess_passwd.', 'imap.', 'ipsweep.', 'land.', 'loadmodule.', 'multihop.', 'neptune.', 'nmap.', 'perl.', 'phf.', 'pod.', 'portsweep.', 'rootkit.', 'satan.', 'smurf.', 'spy.', 'teardrop.', 'warezclient.', 'warezmaster.'], 'attack')\n",
    "\n",
    "#selects all of the values except the last column - this will be our features\n",
    "features = dataset.iloc[:, :-1].values\n",
    "#selects only the last column which contains the type of traffic(normal or attack)\n",
    "labels = dataset.iloc[:, 41].values\n",
    "\n",
    "# Import LabelEncoder\n",
    "from sklearn import preprocessing\n",
    "\n",
    "#convert strings into numbers\n",
    "labelencoder_x_1 = preprocessing.LabelEncoder()\n",
    "labelencoder_x_2 = preprocessing.LabelEncoder()\n",
    "labelencoder_x_3 = preprocessing.LabelEncoder()\n",
    "#Fit label encoder and return encoded labels\n",
    "features[:, 1] = labelencoder_x_1.fit_transform(features[:, 1])\n",
    "features[:, 2] = labelencoder_x_2.fit_transform(features[:, 2])\n",
    "features[:, 3] = labelencoder_x_3.fit_transform(features[:, 3])\n",
    "\n",
    "labelencoder_y = preprocessing.LabelEncoder()\n",
    "labels = labelencoder_y.fit_transform(labels)"
   ]
  },
  {
   "cell_type": "code",
   "execution_count": 8,
   "metadata": {},
   "outputs": [
    {
     "name": "stderr",
     "output_type": "stream",
     "text": [
      "/anaconda3/lib/python3.6/site-packages/sklearn/utils/validation.py:595: DataConversionWarning: Data with input dtype object was converted to float64 by StandardScaler.\n",
      "  warnings.warn(msg, DataConversionWarning)\n",
      "/anaconda3/lib/python3.6/site-packages/sklearn/utils/validation.py:595: DataConversionWarning: Data with input dtype object was converted to float64 by StandardScaler.\n",
      "  warnings.warn(msg, DataConversionWarning)\n",
      "/anaconda3/lib/python3.6/site-packages/sklearn/utils/validation.py:595: DataConversionWarning: Data with input dtype object was converted to float64 by StandardScaler.\n",
      "  warnings.warn(msg, DataConversionWarning)\n"
     ]
    }
   ],
   "source": [
    "#splitting the dataset into the training set and test set\n",
    "from sklearn.model_selection import train_test_split\n",
    "x_train, x_test, y_train, y_test = train_test_split(features, labels, test_size = 0.3, random_state = 0)\n",
    "\n",
    "\n",
    "#feature scaling\n",
    "from sklearn.preprocessing import StandardScaler\n",
    "sc_x = StandardScaler()\n",
    "x_train = sc_x.fit_transform(x_train)\n",
    "x_test = sc_x.transform(x_test)"
   ]
  },
  {
   "cell_type": "code",
   "execution_count": 9,
   "metadata": {},
   "outputs": [],
   "source": [
    "#Import Library of Gaussian Naive Bayes model\n",
    "from sklearn.naive_bayes import GaussianNB \n",
    "\n",
    "#Create a Gaussian Classifier\n",
    "model = GaussianNB()\n",
    "\n",
    "# Train the model using the training sets \n",
    "model.fit(x_train, y_train)\n",
    "\n",
    "#Predict the test set results\n",
    "y_pred = model.predict(x_test)\n"
   ]
  },
  {
   "cell_type": "code",
   "execution_count": 10,
   "metadata": {},
   "outputs": [
    {
     "name": "stdout",
     "output_type": "stream",
     "text": [
      "the Accuracy is: 0.9858035437161788\n",
      "Recall is : 0.945699434437216\n",
      "False Positive rate: 0.0037664623311256026\n",
      "Precision is: 0.9849170950938\n",
      "F-measure is: 0.9649099399599733\n",
      "Entropy is: 0.014968581665328664\n"
     ]
    }
   ],
   "source": [
    "# Making the Confusion Matrix to evaluate the accuracy of using a Gaussian Classifier\n",
    "from sklearn.metrics import confusion_matrix\n",
    "cm = confusion_matrix(y_test, y_pred)\n",
    "\n",
    "# Applying k-Fold Cross Validation\n",
    "from sklearn.model_selection import cross_val_score\n",
    "accuracies = cross_val_score(estimator = model, X = x_train, y = y_train, cv = 10)\n",
    "accuracies.mean()\n",
    "accuracies.std()\n",
    "\n",
    "#the performance of the classification model\n",
    "print(\"the Accuracy is: \"+ str((cm[0,0]+cm[1,1])/(cm[0,0]+cm[0,1]+cm[1,0]+cm[1,1])))\n",
    "recall = cm[1,1]/(cm[0,1]+cm[1,1])\n",
    "print(\"Recall is : \"+ str(recall))\n",
    "print(\"False Positive rate: \"+ str(cm[1,0]/(cm[0,0]+cm[1,0])))\n",
    "precision = cm[1,1]/(cm[1,0]+cm[1,1])\n",
    "print(\"Precision is: \"+ str(precision))\n",
    "print(\"F-measure is: \"+ str(2*((precision*recall)/(precision+recall))))\n",
    "from math import log\n",
    "print(\"Entropy is: \"+ str(-precision*log(precision)))"
   ]
  },
  {
   "cell_type": "code",
   "execution_count": null,
   "metadata": {},
   "outputs": [],
   "source": []
  },
  {
   "cell_type": "code",
   "execution_count": null,
   "metadata": {},
   "outputs": [],
   "source": []
  }
 ],
 "metadata": {
  "kernelspec": {
   "display_name": "Python 3",
   "language": "python",
   "name": "python3"
  },
  "language_info": {
   "codemirror_mode": {
    "name": "ipython",
    "version": 3
   },
   "file_extension": ".py",
   "mimetype": "text/x-python",
   "name": "python",
   "nbconvert_exporter": "python",
   "pygments_lexer": "ipython3",
   "version": "3.6.8"
  }
 },
 "nbformat": 4,
 "nbformat_minor": 2
}
